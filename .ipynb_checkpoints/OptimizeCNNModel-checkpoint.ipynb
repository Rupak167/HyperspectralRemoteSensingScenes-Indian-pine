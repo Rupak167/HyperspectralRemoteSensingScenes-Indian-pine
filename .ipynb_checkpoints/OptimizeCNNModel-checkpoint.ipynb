{
 "cells": [
  {
   "cell_type": "markdown",
   "metadata": {
    "id": "DCZCuQgEv9rL"
   },
   "source": [
    "## Create CNN Model and Optimize it using Keras Tuner"
   ]
  },
  {
   "cell_type": "code",
   "execution_count": 1,
   "metadata": {
    "id": "60YGxAmCx76D"
   },
   "outputs": [],
   "source": [
    "import tensorflow as tf\n",
    "from tensorflow import keras\n",
    "import pandas as pd\n",
    "import numpy as np\n",
    "from tensorflow.keras import layers\n",
    "from keras_tuner import RandomSearch\n",
    "from keras_tuner.engine.hyperparameters import HyperParameters\n",
    "from sklearn.model_selection import train_test_split\n",
    "from sklearn.preprocessing import StandardScaler"
   ]
  },
  {
   "cell_type": "code",
   "execution_count": 2,
   "metadata": {
    "colab": {
     "base_uri": "https://localhost:8080/",
     "height": 34
    },
    "id": "DnHagjG7yCn9",
    "outputId": "524ee727-123d-484f-e290-38d3defbe699"
   },
   "outputs": [
    {
     "name": "stdout",
     "output_type": "stream",
     "text": [
      "2.2.0\n"
     ]
    }
   ],
   "source": [
    "print(tf.__version__)"
   ]
  },
  {
   "cell_type": "code",
   "execution_count": null,
   "metadata": {
    "id": "q-YZfsFiyQ0b"
   },
   "outputs": [],
   "source": [
    "# Load the CSV file\n",
    "data = pd.read_csv('indian_pine.csv')\n",
    "\n",
    "# Separate the features (X) and the labels (y)\n",
    "X = data.iloc[:, :-1]  # All columns except the last one\n",
    "y = data.iloc[:, -1]   # Last column as the target"
   ]
  },
  {
   "cell_type": "code",
   "execution_count": null,
   "metadata": {
    "colab": {
     "base_uri": "https://localhost:8080/",
     "height": 151
    },
    "id": "Hu81J5Jtyp8U",
    "outputId": "fb3b836c-9c41-466f-8a99-b5389f3316ed"
   },
   "outputs": [],
   "source": [
    "# Apply normalization to X values\n",
    "X_normalized = X / X.max()  # Normalize by dividing by the maximum value in each column"
   ]
  },
  {
   "cell_type": "code",
   "execution_count": null,
   "metadata": {
    "id": "l9LhHE81y0v_"
   },
   "outputs": [],
   "source": [
    "# Apply standard scaling to X values\n",
    "scaler = StandardScaler()\n",
    "X_scaled = scaler.fit_transform(X_normalized)"
   ]
  },
  {
   "cell_type": "code",
   "execution_count": null,
   "metadata": {
    "colab": {
     "base_uri": "https://localhost:8080/",
     "height": 34
    },
    "id": "HaTJWh1EzI_p",
    "outputId": "2eed5dcf-cb0a-4aa5-b165-63a80ce9ec17"
   },
   "outputs": [],
   "source": [
    "# Perform train-test split\n",
    "X_train, X_test, y_train, y_test = train_test_split(X_scaled, y, test_size=0.2, random_state=42)"
   ]
  },
  {
   "cell_type": "code",
   "execution_count": null,
   "metadata": {
    "id": "oLNQjFhgzM3U"
   },
   "outputs": [],
   "source": [
    "def build_model(hp):\n",
    "    model = keras.Sequential()\n",
    "    model.add(layers.Dense(units=hp.Int('dense_units',\n",
    "                                         min_value=32,\n",
    "                                         max_value=128,\n",
    "                                         step=16),\n",
    "                           activation='relu',\n",
    "                           input_dim=220))\n",
    "\n",
    "    for i in range(hp.Int('num_layers', 1, 3)):\n",
    "        model.add(layers.Dense(units=hp.Int(f'dense_{i}_units',\n",
    "                                             min_value=32,\n",
    "                                             max_value=128,\n",
    "                                             step=16),\n",
    "                               activation='relu'))\n",
    "\n",
    "    model.add(layers.Dense(16, activation='softmax'))\n",
    "\n",
    "    model.compile(optimizer=keras.optimizers.Adam(hp.Choice('learning_rate',\n",
    "                                                             values=[1e-2, 1e-3])),\n",
    "                  loss='sparse_categorical_crossentropy',\n",
    "                  metrics=['accuracy'])\n",
    "\n",
    "    return model"
   ]
  },
  {
   "cell_type": "code",
   "execution_count": null,
   "metadata": {
    "id": "alNFfaFfzi6z"
   },
   "outputs": [],
   "source": [
    "tuner = RandomSearch(\n",
    "    build_model,\n",
    "    objective='val_accuracy',\n",
    "    max_trials=5,\n",
    "    directory='my_dir',\n",
    "    project_name='tabular_model'\n",
    ")\n"
   ]
  },
  {
   "cell_type": "code",
   "execution_count": null,
   "metadata": {
    "id": "MISah2nO0sJg"
   },
   "outputs": [],
   "source": [
    "tuner.search(x=X_train, y=y_train, validation_data=(X_test, y_test), epochs=15)"
   ]
  },
  {
   "cell_type": "code",
   "execution_count": null,
   "metadata": {
    "id": "HKFxb_pI05W-"
   },
   "outputs": [],
   "source": [
    "model=tuner.get_best_models(num_models=1)[0]"
   ]
  },
  {
   "cell_type": "code",
   "execution_count": null,
   "metadata": {
    "colab": {
     "base_uri": "https://localhost:8080/",
     "height": 319
    },
    "id": "4qe6YrQV3g-s",
    "outputId": "0268fc1f-34a2-449f-ca64-a8a5137aa395"
   },
   "outputs": [],
   "source": [
    "model.summary()"
   ]
  },
  {
   "cell_type": "code",
   "execution_count": null,
   "metadata": {
    "colab": {
     "base_uri": "https://localhost:8080/",
     "height": 306
    },
    "id": "4ZKKr1IG3l6p",
    "outputId": "00c298b1-71ab-4070-a6a9-e62234c211be"
   },
   "outputs": [],
   "source": [
    "model.fit(X_scaled, y, epochs=10, validation_split=0.15, initial_epoch=20)"
   ]
  },
  {
   "cell_type": "code",
   "execution_count": null,
   "metadata": {
    "id": "cQz-cSf63zHK"
   },
   "outputs": [],
   "source": [
    "loss, accuracy = model.evaluate(X_test, y_test)"
   ]
  },
  {
   "cell_type": "code",
   "execution_count": null,
   "metadata": {},
   "outputs": [],
   "source": []
  }
 ],
 "metadata": {
  "accelerator": "GPU",
  "colab": {
   "provenance": []
  },
  "kernelspec": {
   "display_name": "Python 3",
   "language": "python",
   "name": "python3"
  },
  "language_info": {
   "codemirror_mode": {
    "name": "ipython",
    "version": 3
   },
   "file_extension": ".py",
   "mimetype": "text/x-python",
   "name": "python",
   "nbconvert_exporter": "python",
   "pygments_lexer": "ipython3",
   "version": "3.6.13"
  }
 },
 "nbformat": 4,
 "nbformat_minor": 1
}
